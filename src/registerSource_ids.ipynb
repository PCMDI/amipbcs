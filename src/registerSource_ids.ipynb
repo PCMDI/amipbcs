{
 "cells": [
  {
   "cell_type": "markdown",
   "id": "4f33c2d2-196f-46a0-a5b6-f9f685f9d550",
   "metadata": {},
   "source": [
    "# Register new source_id's; Amend existing ones\n",
    "<div style=\"text-align: right\">\n",
    "<p>\n",
    "    <img src=\"https://pcmdi.github.io/assets/PCMDI/199x65px-PCMDI-Logo-Text-rectangle.png\"\n",
    "         width=\"91\"\n",
    "         height=\"30\"\n",
    "         class=\"fixed-height-image\"\n",
    "         style=\"margin-right: 20px\"\n",
    "         title=\"Program for Climate Model Diagnosis and Intercomparison\"\n",
    "         alt=\"Program for Climate Model Diagnosis and Intercomparison\"\n",
    "    >&nbsp;\n",
    "    <img src=\"https://pcmdi.github.io/assets/LLNL/212px-LLNLiconPMS286-WHITEBACKGROUND.png\"\n",
    "         width=\"30\"\n",
    "         height=\"30\"\n",
    "         class=\"fixed-height-image\"\n",
    "         style=\"margin-right: 20px\"\n",
    "         title=\"Lawrence Livermore National Laboratory\"\n",
    "         alt=\"Lawrence Livermore National Laboratory\"\n",
    "    >&nbsp;\n",
    "    <img src=\"https://pcmdi.github.io/assets/DOE/459x127px-DOE-Logo_Color_TextOnly.png\"\n",
    "         width=\"108\"\n",
    "         height=\"30\"\n",
    "         class=\"fixed-height-image\"\n",
    "         style=\"margin-right: 20px\"\n",
    "         title=\"United States Department of Energy\"\n",
    "         alt=\"United States Department of Energy\"\n",
    "    >\n",
    "</p>\n",
    "</div>"
   ]
  },
  {
   "attachments": {},
   "cell_type": "markdown",
   "id": "de9f61bc-ce3a-4123-8afd-bded7e6834b1",
   "metadata": {},
   "source": [
    "# **Summary**\n",
    "\n",
    "This file pulls input4MIPs CMIP7/CMOR3.11.x-era CVs, and augments with new CMIP7Plus entries.\n",
    "\n",
    "**Authors:**\n",
    "\n",
    "Paul J. Durack ([durack1](https://github.com/durack1); [PCMDI](https://pcmdi.llnl.gov/), [Lawrence Livermore National Laboratory](https://www.llnl.gov/))\n",
    "\n",
    "**Notes:**\n",
    "\n",
    "PJD 13 Aug 2025 - initiated<br>\n",
    "PJD 13 Aug 2025 - added `license_id` to `required_global_attributes`<br>\n",
    "PJD 13 Aug 2025 - added `CMIP7Plus` to `mip_era`<br>\n",
    "PJD 14 Aug 2025 - further updates, cleanup `PCMDI-AMIP-1-1-3`<br>\n",
    "PJD 14 Aug 2025 - added missing source_id's `PCMDI-AMIP-1-1-0` through `*1-1-3`<br>\n",
    "PJD 14 Aug 2025 - added DKRZ supported DOIs<br>\n",
    "PJD 15 Aug 2025 - corrected dest dir for `input4MIPs_CVs.json`<br>\n",
    "PJD 15 Aug 2025 - add new `license` to CV (CMOR 3.11+ update)<br>\n",
    "PJD 15 Aug 2025 - added `institution` cleanup (add ROR)<br>\n",
    "PJD 15 Aug 2025 - remove `license` attribute from PCMDI-AMIP-1-1-8 through 1-1-10\n",
    "\n",
    "**TODO:**\n",
    "\n",
    "**Links:**\n",
    "\n",
    "### imports"
   ]
  },
  {
   "cell_type": "code",
   "execution_count": 1,
   "id": "157ca2af-ce47-403b-9735-87307836639a",
   "metadata": {},
   "outputs": [
    {
     "name": "stdout",
     "output_type": "stream",
     "text": [
      "CPU times: user 30.9 ms, sys: 12.2 ms, total: 43.1 ms\n",
      "Wall time: 53.2 ms\n"
     ]
    }
   ],
   "source": [
    "%%time\n",
    "from copy import deepcopy\n",
    "import datetime\n",
    "import json\n",
    "import os\n",
    "import requests"
   ]
  },
  {
   "cell_type": "markdown",
   "id": "7cdc23d6-abc9-4840-96f4-13a7b317eda4",
   "metadata": {},
   "source": [
    "## set CV files and pull"
   ]
  },
  {
   "cell_type": "code",
   "execution_count": 2,
   "id": "1a0f4ec8-0d03-42f6-8eb6-d8e3d58f51ac",
   "metadata": {},
   "outputs": [
    {
     "name": "stdout",
     "output_type": "stream",
     "text": [
      "0 activity_id\n",
      "1 dataset_category\n",
      "2 frequency\n",
      "3 grid_label\n",
      "4 institution_id\n",
      "5 license\n",
      "6 mip_era\n",
      "7 nominal_resolution\n",
      "8 product\n",
      "9 realm\n",
      "10 region\n",
      "11 required_global_attributes\n",
      "12 source_id\n",
      "13 target_mip\n",
      "CPU times: user 137 ms, sys: 42.3 ms, total: 180 ms\n",
      "Wall time: 3.32 s\n"
     ]
    }
   ],
   "source": [
    "%%time\n",
    "targets = [\n",
    "    \"activity_id\",\n",
    "    \"dataset_category\",\n",
    "    \"frequency\",\n",
    "    \"grid_label\",\n",
    "    \"institution_id\",\n",
    "    \"license\",\n",
    "    \"mip_era\",\n",
    "    \"nominal_resolution\",\n",
    "    \"product\",\n",
    "    \"realm\",\n",
    "    \"region\",\n",
    "    \"required_global_attributes\",\n",
    "    \"source_id\",\n",
    "    \"target_mip\",\n",
    "]\n",
    "urlTmp = \"https://raw.githubusercontent.com/PCMDI/amipbcs/refs/heads/master/CVs/input4MIPs_TARGET.json\"\n",
    "\n",
    "# loop through urls\n",
    "for count, key in enumerate(targets):\n",
    "    print(count, key)\n",
    "    url = urlTmp.replace(\"TARGET\", key)\n",
    "    try:\n",
    "        response = requests.get(url)\n",
    "        response.raise_for_status()  # Raise HTTPError for bad responses (4/5xx)\n",
    "        vars()[key] = json.loads(response.text)\n",
    "    except requests.exceptions.RequestException as e:\n",
    "        print(f\"Request failed: {e}\")\n",
    "    except json.JSONDecodeError as e:\n",
    "        print(f\"JSON decode failed: {e}\")\n",
    "    except Exception as e:\n",
    "        print(f\"Unexpected error occurred: {e}\")"
   ]
  },
  {
   "cell_type": "markdown",
   "id": "99413e3e-5204-4b5d-b4b9-916c193f7f33",
   "metadata": {},
   "source": [
    "### update license template"
   ]
  },
  {
   "cell_type": "code",
   "execution_count": 3,
   "id": "ded62470-db1d-4776-8c8f-a5a67eb11242",
   "metadata": {},
   "outputs": [],
   "source": [
    "license = {}\n",
    "license[\"license\"] = {\n",
    "    \"license_id\": {\n",
    "        \"CC BY 4.0\": {\n",
    "            \"license_type\": \"Creative Commons Attribution 4.0 International\",\n",
    "            \"license_url\": \"https://creativecommons.org/licenses/by/4.0/\",\n",
    "        },\n",
    "        \"CC0 1.0\": {\n",
    "            \"license_type\": \"Creative Commons CC0 1.0 Universal Public Domain Dedication\",\n",
    "            \"license_url\": \"https://creativecommons.org/publicdomain/zero/1.0/\",\n",
    "        },\n",
    "    },\n",
    "    \"license_template\": \" \".join(\n",
    "        [\n",
    "            \"<license_id>; input4MIPs data produced by <institution_id> is licensed under a\",\n",
    "            \"<license_type> License (<license_url>). Consult https://pcmdi.llnl.gov/CMIP6/TermsOfUse\",\n",
    "            \"for terms of use governing input4MIPs output, including citation requirements and proper\",\n",
    "            \"acknowledgment. The data producers and data providers make no warranty, either express\",\n",
    "            \"or implied, including, but not limited to, warranties of merchantability and fitness\",\n",
    "            \"for a particular purpose. All liabilities arising from the supply of the information\",\n",
    "            \"(including any liability arising in negligence) are excluded to the fullest extent\",\n",
    "            \"permitted by law.\",\n",
    "        ]\n",
    "    ),\n",
    "}"
   ]
  },
  {
   "cell_type": "markdown",
   "id": "a2ed14cf-43e0-4f5c-8a53-3d41104fdc14",
   "metadata": {},
   "source": [
    "### cleanup institution_id"
   ]
  },
  {
   "cell_type": "code",
   "execution_count": 4,
   "id": "9648cb82-e762-406a-a2ee-0ac869e3b021",
   "metadata": {},
   "outputs": [],
   "source": [
    "institution_id[\"institution_id\"][\"PCMDI\"] = \" \".join(\n",
    "    [\n",
    "        \"Program for Climate Model Diagnosis and Intercomparison,\",\n",
    "        \"Lawrence Livermore National Laboratory, Livermore, CA 94550,\",\n",
    "        \"USA (ROR: https://ror.org/02k3nmd98)\",\n",
    "    ]\n",
    ")"
   ]
  },
  {
   "cell_type": "markdown",
   "id": "dcca02f5-f699-4dfd-9bd6-0f3333b6f873",
   "metadata": {},
   "source": [
    "### cleanup required_global_attributes"
   ]
  },
  {
   "cell_type": "code",
   "execution_count": 5,
   "id": "575ff389-e227-40da-a702-5790f910b409",
   "metadata": {},
   "outputs": [
    {
     "data": {
      "text/plain": [
       "{'required_global_attributes': ['Conventions',\n",
       "  'activity_id',\n",
       "  'contact',\n",
       "  'creation_date',\n",
       "  'dataset_category',\n",
       "  'frequency',\n",
       "  'further_info_url',\n",
       "  'grid_label',\n",
       "  'institution',\n",
       "  'institution_id',\n",
       "  'license',\n",
       "  'license_id',\n",
       "  'mip_era',\n",
       "  'nominal_resolution',\n",
       "  'realm',\n",
       "  'region',\n",
       "  'source',\n",
       "  'source_id',\n",
       "  'source_version',\n",
       "  'table_id',\n",
       "  'target_mip',\n",
       "  'title',\n",
       "  'tracking_id',\n",
       "  'variable_id']}"
      ]
     },
     "execution_count": 5,
     "metadata": {},
     "output_type": "execute_result"
    }
   ],
   "source": [
    "required_global_attributes[\"required_global_attributes\"].append(\"license_id\")\n",
    "required_global_attributes[\"required_global_attributes\"].sort()\n",
    "required_global_attributes"
   ]
  },
  {
   "cell_type": "markdown",
   "id": "2e2376c9-8d8b-49e1-8ba6-3d235e40bd80",
   "metadata": {},
   "source": [
    "### register new mip_era"
   ]
  },
  {
   "cell_type": "code",
   "execution_count": 6,
   "id": "6cb4e5a9-6285-417a-ab42-9787ae29c5e0",
   "metadata": {},
   "outputs": [
    {
     "data": {
      "text/plain": [
       "{'mip_era': ['AMIP1',\n",
       "  'AMIP2',\n",
       "  'CMIP1',\n",
       "  'CMIP2',\n",
       "  'CMIP3',\n",
       "  'CMIP5',\n",
       "  'CMIP6',\n",
       "  'CMIP6Plus',\n",
       "  'CMIP7',\n",
       "  'CMIP7Plus']}"
      ]
     },
     "execution_count": 6,
     "metadata": {},
     "output_type": "execute_result"
    }
   ],
   "source": [
    "mip_era[\"mip_era\"].append(\"CMIP7Plus\")\n",
    "mip_era[\"mip_era\"].sort()\n",
    "mip_era"
   ]
  },
  {
   "cell_type": "markdown",
   "id": "ea83b542-a24e-4007-b558-23eb6da5f34a",
   "metadata": {},
   "source": [
    "### register new source_id's"
   ]
  },
  {
   "cell_type": "code",
   "execution_count": 7,
   "id": "7af751ea-c6fb-4782-8a4a-4282292f9bd9",
   "metadata": {},
   "outputs": [
    {
     "name": "stdout",
     "output_type": "stream",
     "text": [
      "0 PCMDI-AMIP-1-1-10\n",
      "1 PCMDI-AMIP-1-1-3\n",
      "2 PCMDI-AMIP-1-1-4\n",
      "3 PCMDI-AMIP-1-1-5\n",
      "4 PCMDI-AMIP-1-1-6\n",
      "5 PCMDI-AMIP-1-1-7\n",
      "6 PCMDI-AMIP-1-1-8\n",
      "7 PCMDI-AMIP-1-1-9\n",
      "processing PCMDI-AMIP-ERSST5-1-0\n",
      "processing PCMDI-AMIP-Had1p1-1-0\n",
      "processing PCMDI-AMIP-OI2p1-1-0\n"
     ]
    }
   ],
   "source": [
    "source_id[\"source_id\"].keys()\n",
    "\n",
    "# Add to all\n",
    "for count, srcId in enumerate(source_id[\"source_id\"].keys()):\n",
    "    print(count, srcId)\n",
    "    if srcId == \"PCMDI-AMIP-1-1-3\":\n",
    "        continue  # no standard entries\n",
    "    source_id[\"source_id\"][srcId][\"comment\"] = source_id[\"source_id\"][srcId][\n",
    "        \"comment\"\n",
    "    ].replace(\"HadISST (1870\", \"HadISST v1.0 (1870\")\n",
    "    source_id[\"source_id\"][srcId][\"comment\"] = source_id[\"source_id\"][srcId][\n",
    "        \"comment\"\n",
    "    ].replace(\"NCEP-0I2 (1981\", \"NCEP-0I2 v2.0 (1981\")\n",
    "    source_id[\"source_id\"][srcId][\n",
    "        \"contact\"\n",
    "    ] = \"Paul J. Durack (durack1@llnl.gov; pauldurack@gmail.com); Karl E. Taylor (taylor13@llnl.gov); PCMDI (pcmdi-cmip@llnl.gov)\"\n",
    "    source_id[\"source_id\"][srcId][\"doi\"] = \"null\"\n",
    "    source_id[\"source_id\"][srcId][\"license_id\"] = \"CC BY 4.0\"\n",
    "    source_id[\"source_id\"][srcId][\"institution\"] = \" \".join(\n",
    "        [\n",
    "            \"Program for Climate Model Diagnosis and Intercomparison, Lawrence Livermore National Laboratory, Livermore, CA\",\n",
    "            \"94550, USA (ROR: https://ror.org/02k3nmd98)\",\n",
    "        ]\n",
    "    )\n",
    "    source_id[\"source_id\"][srcId][\"data_repo\"] = \"https://github.com/PCMDI/amipbcs\"\n",
    "    source_id[\"source_id\"][srcId].pop(\"references\")\n",
    "    source_id[\"source_id\"][srcId][\"references_obs\"] = \" \".join(\n",
    "        [\n",
    "            \"Hurrell, J. W., J. J. Hack, D. Shea, J. M. Caron, and J. Rosinski (2008) A New Sea Surface Temperature and Sea Ice Boundary Dataset\",\n",
    "            \"for the Community Atmosphere Model. J. Climate, 22 (19), pp 5145-5153. doi: 10.1175/2008JCLI2292.1\",\n",
    "        ]\n",
    "    )\n",
    "    source_id[\"source_id\"][srcId][\"references_bcs\"] = \" \".join(\n",
    "        [\n",
    "            \"Taylor, K.E., D. Williamson and F. Zwiers, 2000: The sea surface temperature and sea ice concentration boundary conditions for\",\n",
    "            \"AMIP II simulations. PCMDI Report 60, Program for Climate Model Diagnosis and Intercomparison, Lawrence Livermore National\",\n",
    "            \"Laboratory, 25 pp. Available online: https://pcmdi.llnl.gov/report/pdf/60.pdf\",\n",
    "        ]\n",
    "    )\n",
    "    source_id[\"source_id\"][srcId][\"source\"] = \"\".join(\n",
    "        [\n",
    "            \"PCMDI-AMIP \",\n",
    "            \".\".join(srcId.split(\"-\")[2:]),\n",
    "            \": Merged SST based on UK MetOffice HadISST v1.0 and NCEP OI2 v2.0\",\n",
    "        ]\n",
    "    )\n",
    "    # delete extraneous license key\n",
    "    if \"license\" in source_id[\"source_id\"][srcId].keys():\n",
    "        source_id[\"source_id\"][srcId].pop(\"license\")\n",
    "\n",
    "newSrcIds = [\"PCMDI-AMIP-ERSST5-1-0\", \"PCMDI-AMIP-Had1p1-1-0\", \"PCMDI-AMIP-OI2p1-1-0\"]\n",
    "# pre-populate with PCMDI-AMIP-1-1-10 fields\n",
    "for count, srcId in enumerate(newSrcIds):\n",
    "    source_id[\"source_id\"][srcId] = {}\n",
    "    source_id[\"source_id\"][srcId] = deepcopy(\n",
    "        source_id[\"source_id\"][\"PCMDI-AMIP-1-1-10\"]\n",
    "    )\n",
    "    source_id[\"source_id\"][srcId][\n",
    "        \"contact\"\n",
    "    ] = \"Paul J. Durack (durack1@llnl.gov; pauldurack@gmail.com); Mark D. Zelinka (zelinka1@llnl.gov); PCMDI (pcmdi-cmip@llnl.gov)\"\n",
    "    source_id[\"source_id\"][srcId][\"mip_era\"] = \"CMIP7Plus\"\n",
    "    source_id[\"source_id\"][srcId][\n",
    "        \"mip_specs\"\n",
    "    ] = \"AMIP CMIP5 CMIP6 CMIP6Plus CMIP7 CMIP7Plus\"\n",
    "    source_id[\"source_id\"][srcId][\n",
    "        \"source_description\"\n",
    "    ] = \"Sea surface temperature datasets produced by PCMDI (LLNL) for the AMIP (DECK) experiment of CMIP7Plus - prototype data for quantifying forcing uncertainty\"\n",
    "    source_id[\"source_id\"][srcId][\"source_id\"] = srcId\n",
    "    source_id[\"source_id\"][srcId][\"source_variables\"] = [\"tos\", \"tosbcs\"]\n",
    "    source_id[\"source_id\"][srcId][\"source_version\"] = \"1.0\"\n",
    "    source_id[\"source_id\"][srcId][\"title\"] = \" \".join(\n",
    "        [\"PCMDI-AMIP\", srcId.split(\"-\")[2], \"1.0 dataset prepared for input4MIPs\"]\n",
    "    )\n",
    "\n",
    "# Custom per srcId\n",
    "# PCMDI-AMIP-ERSST5-1-0\n",
    "srcId = \"PCMDI-AMIP-ERSST5-1-0\"\n",
    "print(\"processing\", srcId)\n",
    "source_id[\"source_id\"][srcId][\"comment\"] = \"\".join(\n",
    "    [\n",
    "        \"Based on Hurrell SST/sea ice consistency criteria applied to merged HadISST v1.0 (1870-01 to 1981-10) & NCEP-0ISST v2.0 \",\n",
    "        \"(1981-11 to 2022-12) and overwritten with ERSST v5.0 data where present (1870-01 to 2022-12)\",\n",
    "    ]\n",
    ")\n",
    "source_id[\"source_id\"][srcId][\"doi\"] = \"10.25981/ESGF.input4MIPs.CMIP7/257xxxx\"\n",
    "source_id[\"source_id\"][srcId][\"source\"] = \" \".join(\n",
    "    [\n",
    "        \"PCMDI-AMIP ERSST5 1.0: Merged SST based on UK MetOffice HadISST v1.0 and NCEP OI2 v2.0.\",\n",
    "        \"SST values are overwritten with ERSST v5.0 data where present\",\n",
    "    ]\n",
    ")\n",
    "\n",
    "# PCMDI-AMIP-Had1p1-1-0\n",
    "srcId = \"PCMDI-AMIP-Had1p1-1-0\"\n",
    "print(\"processing\", srcId)\n",
    "source_id[\"source_id\"][srcId][\"comment\"] = \"\".join(\n",
    "    [\n",
    "        \"Based on Hurrell SST/sea ice consistency criteria applied to merged HadISST v1.0 (1870-01 to 1981-10) & NCEP-0ISST v2.0 \",\n",
    "        \"(1981-11 to 2022-12) and overwritten with HadISST v1.1 data where present (1870-01 to 2022-12)\",\n",
    "    ]\n",
    ")\n",
    "source_id[\"source_id\"][srcId][\"doi\"] = \"10.25981/ESGF.input4MIPs.CMIP7/257xxxx\"\n",
    "source_id[\"source_id\"][srcId][\"source\"] = \" \".join(\n",
    "    [\n",
    "        \"PCMDI-AMIP HadISST1p1 1.0: Merged SST based on UK MetOffice HadISST v1.0 and NCEP OI2 v2.0.\",\n",
    "        \"SST values are overwritten with HadISST v1.1 data where present\",\n",
    "    ]\n",
    ")\n",
    "\n",
    "# PCMDI-AMIP-OI2p1-1-0\n",
    "srcId = \"PCMDI-AMIP-OI2p1-1-0\"\n",
    "print(\"processing\", srcId)\n",
    "source_id[\"source_id\"][srcId][\"comment\"] = \"\".join(\n",
    "    [\n",
    "        \"Based on Hurrell SST/sea ice consistency criteria applied to merged HadISST v1.0 (1870-01 to 1981-10) & NCEP-0ISST v2.0 \",\n",
    "        \"(1981-11 to 2022-12) and overwritten with NCEP-OISST v2.1 data where present (1981-09 to 2022-12)\",\n",
    "    ]\n",
    ")\n",
    "source_id[\"source_id\"][srcId][\"doi\"] = \"10.25981/ESGF.input4MIPs.CMIP7/257xxxx\"\n",
    "source_id[\"source_id\"][srcId][\"source\"] = \" \".join(\n",
    "    [\n",
    "        \"PCMDI-AMIP OISST2p1 1.0: Merged SST based on UK MetOffice HadISST v1.0 and NCEP OI2 v2.0.\",\n",
    "        \"SST values are overwritten with NCEP OI2p1 v2.1 data where present\",\n",
    "    ]\n",
    ")"
   ]
  },
  {
   "cell_type": "code",
   "execution_count": 8,
   "id": "8e6d735d-9569-497e-b5df-a63d2d55b216",
   "metadata": {},
   "outputs": [
    {
     "data": {
      "text/plain": [
       "dict_keys(['PCMDI-AMIP-1-1-10', 'PCMDI-AMIP-1-1-3', 'PCMDI-AMIP-1-1-4', 'PCMDI-AMIP-1-1-5', 'PCMDI-AMIP-1-1-6', 'PCMDI-AMIP-1-1-7', 'PCMDI-AMIP-1-1-8', 'PCMDI-AMIP-1-1-9', 'PCMDI-AMIP-ERSST5-1-0', 'PCMDI-AMIP-Had1p1-1-0', 'PCMDI-AMIP-OI2p1-1-0'])"
      ]
     },
     "execution_count": 8,
     "metadata": {},
     "output_type": "execute_result"
    }
   ],
   "source": [
    "source_id[\"source_id\"].keys()"
   ]
  },
  {
   "cell_type": "code",
   "execution_count": 9,
   "id": "8836d2be-44d4-4067-86c4-ecd563641ebf",
   "metadata": {},
   "outputs": [
    {
     "data": {
      "text/plain": [
       "{'calendar': 'gregorian',\n",
       " 'comment': 'Based on Hurrell SST/sea ice consistency criteria applied to merged HadISST v1.0 (1870-01 to 1981-10) & NCEP-0ISST v2.0 (1981-11 to 2022-12) and overwritten with ERSST v5.0 data where present (1870-01 to 2022-12)',\n",
       " 'contact': 'Paul J. Durack (durack1@llnl.gov; pauldurack@gmail.com); Mark D. Zelinka (zelinka1@llnl.gov); PCMDI (pcmdi-cmip@llnl.gov)',\n",
       " 'dataset_category': 'SSTsAndSeaIce',\n",
       " 'further_info_url': 'https://pcmdi.llnl.gov/mips/amip',\n",
       " 'grid': '1x1 degree longitude x latitude',\n",
       " 'grid_label': 'gn',\n",
       " 'institution': 'Program for Climate Model Diagnosis and Intercomparison, Lawrence Livermore National Laboratory, Livermore, CA 94550, USA (ROR: https://ror.org/02k3nmd98)',\n",
       " 'institution_id': 'PCMDI',\n",
       " 'mip_era': 'CMIP7Plus',\n",
       " 'nominal_resolution': '1x1 degree',\n",
       " 'product': 'observations',\n",
       " 'region': ['global_ocean'],\n",
       " 'release_year': '2025',\n",
       " 'source': 'PCMDI-AMIP ERSST5 1.0: Merged SST based on UK MetOffice HadISST v1.0 and NCEP OI2 v2.0. SST values are overwritten with ERSST v5.0 data where present',\n",
       " 'source_description': 'Sea surface temperature datasets produced by PCMDI (LLNL) for the AMIP (DECK) experiment of CMIP7Plus - prototype data for quantifying forcing uncertainty',\n",
       " 'source_id': 'PCMDI-AMIP-ERSST5-1-0',\n",
       " 'source_type': 'satellite_blended',\n",
       " 'source_variables': ['tos', 'tosbcs'],\n",
       " 'source_version': '1.0',\n",
       " 'target_mip': 'CMIP',\n",
       " 'title': 'PCMDI-AMIP ERSST5 1.0 dataset prepared for input4MIPs',\n",
       " 'doi': '10.25981/ESGF.input4MIPs.CMIP7/257xxxx',\n",
       " 'license_id': 'CC BY 4.0',\n",
       " 'data_repo': 'https://github.com/PCMDI/amipbcs',\n",
       " 'references_obs': 'Hurrell, J. W., J. J. Hack, D. Shea, J. M. Caron, and J. Rosinski (2008) A New Sea Surface Temperature and Sea Ice Boundary Dataset for the Community Atmosphere Model. J. Climate, 22 (19), pp 5145-5153. doi: 10.1175/2008JCLI2292.1',\n",
       " 'references_bcs': 'Taylor, K.E., D. Williamson and F. Zwiers, 2000: The sea surface temperature and sea ice concentration boundary conditions for AMIP II simulations. PCMDI Report 60, Program for Climate Model Diagnosis and Intercomparison, Lawrence Livermore National Laboratory, 25 pp. Available online: https://pcmdi.llnl.gov/report/pdf/60.pdf',\n",
       " 'mip_specs': 'AMIP CMIP5 CMIP6 CMIP6Plus CMIP7 CMIP7Plus'}"
      ]
     },
     "execution_count": 9,
     "metadata": {},
     "output_type": "execute_result"
    }
   ],
   "source": [
    "source_id[\"source_id\"][\"PCMDI-AMIP-ERSST5-1-0\"]"
   ]
  },
  {
   "cell_type": "markdown",
   "id": "e7f072ee-298b-4c58-9b6c-f6ffd6c3adcf",
   "metadata": {},
   "source": [
    "### define PCMDI-AMIP-1-1-0, PCMDI-AMIP1-1-1 and PCMDI-AMIP-1-1-2"
   ]
  },
  {
   "cell_type": "code",
   "execution_count": 10,
   "id": "8ca34609-f56b-4f54-bbbf-b9a85df90b53",
   "metadata": {},
   "outputs": [],
   "source": [
    "srcId = \"PCMDI-AMIP-1-1-0\"\n",
    "source_id[\"source_id\"][srcId] = deepcopy(source_id[\"source_id\"][\"PCMDI-AMIP-1-1-4\"])\n",
    "source_id[\"source_id\"][srcId][\"comment\"] = \" \".join(\n",
    "    [\n",
    "        \"Based on Hurrell SST/sea ice consistency criteria applied to\",\n",
    "        \"merged HadISST v1.0 (1870-01 to 1981-10) & NCEP-0I2 v2.0\",\n",
    "        \"(1981-11 to 2015-12)\",\n",
    "    ]\n",
    ")\n",
    "source_id[\"source_id\"][srcId][\"release_year\"] = \"2016\"\n",
    "source_id[\"source_id\"][srcId][\n",
    "    \"source\"\n",
    "] = \"PCMDI-AMIP 1.1.0: Merged SST based on UK MetOffice HadISST v1.0 and NCEP OI2 v2.0\"\n",
    "source_id[\"source_id\"][srcId][\"source_id\"] = srcId\n",
    "source_id[\"source_id\"][srcId][\"source_version\"] = \"1.1.0\"\n",
    "source_id[\"source_id\"][srcId][\n",
    "    \"title\"\n",
    "] = \"PCMDI-AMIP 1.1.0 dataset prepared for input4MIPs\"\n",
    "\n",
    "srcId = \"PCMDI-AMIP-1-1-1\"\n",
    "source_id[\"source_id\"][srcId] = deepcopy(source_id[\"source_id\"][\"PCMDI-AMIP-1-1-4\"])\n",
    "source_id[\"source_id\"][srcId][\"comment\"] = \" \".join(\n",
    "    [\n",
    "        \"Based on Hurrell SST/sea ice consistency criteria applied to\",\n",
    "        \"merged HadISST v1.0 (1870-01 to 1981-10) & NCEP-0I2 v2.0\",\n",
    "        \"(1981-11 to 2016-06)\",\n",
    "    ]\n",
    ")\n",
    "source_id[\"source_id\"][srcId][\"release_year\"] = \"2016\"\n",
    "source_id[\"source_id\"][srcId][\n",
    "    \"source\"\n",
    "] = \"PCMDI-AMIP 1.1.1: Merged SST based on UK MetOffice HadISST v1.0 and NCEP OI2 v2.0\"\n",
    "source_id[\"source_id\"][srcId][\"source_id\"] = srcId\n",
    "source_id[\"source_id\"][srcId][\"source_version\"] = \"1.1.1\"\n",
    "source_id[\"source_id\"][srcId][\n",
    "    \"title\"\n",
    "] = \"PCMDI-AMIP 1.1.1 dataset prepared for input4MIPs\"\n",
    "\n",
    "srcId = \"PCMDI-AMIP-1-1-2\"\n",
    "source_id[\"source_id\"][srcId] = deepcopy(source_id[\"source_id\"][\"PCMDI-AMIP-1-1-4\"])\n",
    "source_id[\"source_id\"][srcId][\"comment\"] = \" \".join(\n",
    "    [\n",
    "        \"Based on Hurrell SST/sea ice consistency criteria applied to\",\n",
    "        \"merged HadISST v1.0 (1870-01 to 1981-10) & NCEP-0I2 v2.0\",\n",
    "        \"(1981-11 to 2016-12)\",\n",
    "    ]\n",
    ")\n",
    "source_id[\"source_id\"][srcId][\"release_year\"] = \"2017\"\n",
    "source_id[\"source_id\"][srcId][\n",
    "    \"source\"\n",
    "] = \"PCMDI-AMIP 1.1.2: Merged SST based on UK MetOffice HadISST v1.0 and NCEP OI2 v2.0\"\n",
    "source_id[\"source_id\"][srcId][\"source_id\"] = srcId\n",
    "source_id[\"source_id\"][srcId][\"source_version\"] = \"1.1.2\"\n",
    "source_id[\"source_id\"][srcId][\n",
    "    \"title\"\n",
    "] = \"PCMDI-AMIP 1.1.2 dataset prepared for input4MIPs\""
   ]
  },
  {
   "cell_type": "markdown",
   "id": "57c5bd71-05d7-4df4-9bb5-a487af42332c",
   "metadata": {},
   "source": [
    "clean up PCMDI-AMIP-1-1-3"
   ]
  },
  {
   "cell_type": "markdown",
   "id": "63b7ee31-8429-4dac-8c11-40fa97b6d522",
   "metadata": {},
   "source": [
    "### clean up PCMDI-AMIP-1-1-3"
   ]
  },
  {
   "cell_type": "code",
   "execution_count": 11,
   "id": "652a8a54-0d17-4c95-b014-5e878c56a5f1",
   "metadata": {},
   "outputs": [],
   "source": [
    "source_id[\"source_id\"][\"PCMDI-AMIP-1-1-3\"] = deepcopy(\n",
    "    source_id[\"source_id\"][\"PCMDI-AMIP-1-1-4\"]\n",
    ")\n",
    "source_id[\"source_id\"][\"PCMDI-AMIP-1-1-3\"][\"comment\"] = \" \".join(\n",
    "    [\n",
    "        \"Based on Hurrell SST/sea ice consistency criteria applied to\",\n",
    "        \"merged HadISST v1.0 (1870-01 to 1981-10) & NCEP-0I2 v2.0\",\n",
    "        \"(1981-11 to 2017-06)\",\n",
    "    ]\n",
    ")\n",
    "source_id[\"source_id\"][\"PCMDI-AMIP-1-1-3\"][\"release_year\"] = \"2017\"\n",
    "source_id[\"source_id\"][\"PCMDI-AMIP-1-1-3\"][\n",
    "    \"source\"\n",
    "] = \"PCMDI-AMIP 1.1.3: Merged SST based on UK MetOffice HadISST v1.0 and NCEP OI2 v2.0\"\n",
    "source_id[\"source_id\"][\"PCMDI-AMIP-1-1-3\"][\"source_id\"] = \"PCMDI-AMIP-1-1-3\"\n",
    "source_id[\"source_id\"][\"PCMDI-AMIP-1-1-3\"][\"source_version\"] = \"1.1.3\"\n",
    "source_id[\"source_id\"][\"PCMDI-AMIP-1-1-3\"][\n",
    "    \"title\"\n",
    "] = \"PCMDI-AMIP 1.1.3 dataset prepared for input4MIPs\""
   ]
  },
  {
   "cell_type": "markdown",
   "id": "704a0ac0",
   "metadata": {},
   "source": [
    "### clean up DOIs"
   ]
  },
  {
   "cell_type": "code",
   "execution_count": 12,
   "id": "2b0c0240",
   "metadata": {},
   "outputs": [],
   "source": [
    "source_id[\"source_id\"][\"PCMDI-AMIP-1-1-0\"][\"doi\"] = \"10.22033/ESGF/input4MIPs.1120\"\n",
    "source_id[\"source_id\"][\"PCMDI-AMIP-1-1-1\"][\"doi\"] = \"10.22033/ESGF/input4MIPs.1128\"\n",
    "source_id[\"source_id\"][\"PCMDI-AMIP-1-1-2\"][\"doi\"] = \"10.22033/ESGF/input4MIPs.1161\"\n",
    "source_id[\"source_id\"][\"PCMDI-AMIP-1-1-3\"][\"doi\"] = \"10.22033/ESGF/input4MIPs.1735\"\n",
    "source_id[\"source_id\"][\"PCMDI-AMIP-1-1-4\"][\"doi\"] = \"10.22033/ESGF/input4MIPs.2204\"\n",
    "source_id[\"source_id\"][\"PCMDI-AMIP-1-1-5\"][\"doi\"] = \"10.22033/ESGF/input4MIPs.9942\"\n",
    "source_id[\"source_id\"][\"PCMDI-AMIP-1-1-6\"][\"doi\"] = \"10.22033/ESGF/input4MIPs.12381\"\n",
    "source_id[\"source_id\"][\"PCMDI-AMIP-1-1-7\"][\"doi\"] = \"10.22033/ESGF/input4MIPs.16485\"\n",
    "# https://www.wdc-climate.de/ui/cmip6?input=input4MIPs.CMIP6.CMIP.PCMDI.PCMDI-AMIP-1-1-8\n",
    "source_id[\"source_id\"][\"PCMDI-AMIP-1-1-8\"][\"doi\"] = \"10.22033/ESGF/input4MIPs.16921\"\n",
    "source_id[\"source_id\"][\"PCMDI-AMIP-1-1-9\"][\n",
    "    \"doi\"\n",
    "] = \"10.25981/ESGF.input4MIPs.CMIP7/257xxxx\""
   ]
  },
  {
   "cell_type": "markdown",
   "id": "78fa963b-ca65-48e2-b1ef-b5363ec46104",
   "metadata": {},
   "source": [
    "### clean up PCMDI-AMIP-1-1-10"
   ]
  },
  {
   "cell_type": "code",
   "execution_count": 13,
   "id": "f40774ba-d5b3-4e1d-ad69-9f599a1a2770",
   "metadata": {},
   "outputs": [],
   "source": [
    "source_id[\"source_id\"][\"PCMDI-AMIP-1-1-10\"][\"data_update_notes\"] = \"\".join(\n",
    "    [\n",
    "        \"v1.1.9 and v1.1.10 differences: this update changes a single month (Dec-22) erroneous sea ice concentration \",\n",
    "        \"(siconc). Due to the tapering affect of the 'diddling' method, some very small changes (<1 percent) can be seen \",\n",
    "        \"starting in August 2022 in diddled fields (siconcbcs). For v1.1.10 a climatology-anomaly infill was \",\n",
    "        \"undertaken, replacing the Dec-22 problem values. For more details, see https://nbviewer.org/github/durack1/\",\n",
    "        \"notebooks/blob/main/jlnbs/PCMDI-AMIP-queryOISST2-0Data.ipynb; There are no changes to either the SST (tos) or \",\n",
    "        \"diddled SST (tosbcs) fields; NOAA OISST v2.0 data was deprecated in February 2023, and no further PCMDI-AMIP-1-x-y \",\n",
    "        \"updates will be produced. Ongoing discussions focused on a v2.0 product continue, see https://github.com/PCMDI/\",\n",
    "        \"amipbcs/issues/6.\",\n",
    "    ]\n",
    ")\n",
    "source_id[\"source_id\"][\"PCMDI-AMIP-1-1-10\"][\n",
    "    \"doi\"\n",
    "] = \"10.25981/ESGF.input4MIPs.CMIP7/2575015\"  # PCMDI-AMIP-1-1-10"
   ]
  },
  {
   "cell_type": "code",
   "execution_count": 14,
   "id": "eb668d06-efc6-420a-a4cc-dcbe4212fe9d",
   "metadata": {},
   "outputs": [
    {
     "data": {
      "text/plain": [
       "{'calendar': 'gregorian',\n",
       " 'comment': 'Based on Hurrell SST/sea ice consistency criteria applied to merged HadISST v1.0 (1870-01 to 1981-10) & NCEP-0I2 v2.0 (1981-11 to 2022-12)',\n",
       " 'contact': 'Paul J. Durack (durack1@llnl.gov; pauldurack@gmail.com); Karl E. Taylor (taylor13@llnl.gov); PCMDI (pcmdi-cmip@llnl.gov)',\n",
       " 'dataset_category': 'SSTsAndSeaIce',\n",
       " 'further_info_url': 'https://pcmdi.llnl.gov/mips/amip',\n",
       " 'grid': '1x1 degree longitude x latitude',\n",
       " 'grid_label': 'gn',\n",
       " 'institution': 'Program for Climate Model Diagnosis and Intercomparison, Lawrence Livermore National Laboratory, Livermore, CA 94550, USA (ROR: https://ror.org/02k3nmd98)',\n",
       " 'institution_id': 'PCMDI',\n",
       " 'mip_era': 'CMIP7',\n",
       " 'nominal_resolution': '1x1 degree',\n",
       " 'product': 'observations',\n",
       " 'region': ['global_ocean'],\n",
       " 'release_year': '2025',\n",
       " 'source': 'PCMDI-AMIP 1.1.10: Merged SST based on UK MetOffice HadISST v1.0 and NCEP OI2 v2.0',\n",
       " 'source_description': 'Sea surface temperature and sea-ice datasets produced by PCMDI (LLNL) for the AMIP (DECK) experiment of CMIP7',\n",
       " 'source_id': 'PCMDI-AMIP-1-1-10',\n",
       " 'source_type': 'satellite_blended',\n",
       " 'source_variables': ['areacello',\n",
       "  'sftof',\n",
       "  'siconc',\n",
       "  'siconcbcs',\n",
       "  'tos',\n",
       "  'tosbcs'],\n",
       " 'source_version': '1.1.10',\n",
       " 'target_mip': 'CMIP',\n",
       " 'title': 'PCMDI-AMIP 1.1.10 dataset prepared for input4MIPs',\n",
       " 'doi': '10.25981/ESGF.input4MIPs.CMIP7/2575015',\n",
       " 'license_id': 'CC BY 4.0',\n",
       " 'data_repo': 'https://github.com/PCMDI/amipbcs',\n",
       " 'references_obs': 'Hurrell, J. W., J. J. Hack, D. Shea, J. M. Caron, and J. Rosinski (2008) A New Sea Surface Temperature and Sea Ice Boundary Dataset for the Community Atmosphere Model. J. Climate, 22 (19), pp 5145-5153. doi: 10.1175/2008JCLI2292.1',\n",
       " 'references_bcs': 'Taylor, K.E., D. Williamson and F. Zwiers, 2000: The sea surface temperature and sea ice concentration boundary conditions for AMIP II simulations. PCMDI Report 60, Program for Climate Model Diagnosis and Intercomparison, Lawrence Livermore National Laboratory, 25 pp. Available online: https://pcmdi.llnl.gov/report/pdf/60.pdf',\n",
       " 'data_update_notes': \"v1.1.9 and v1.1.10 differences: this update changes a single month (Dec-22) erroneous sea ice concentration (siconc). Due to the tapering affect of the 'diddling' method, some very small changes (<1 percent) can be seen starting in August 2022 in diddled fields (siconcbcs). For v1.1.10 a climatology-anomaly infill was undertaken, replacing the Dec-22 problem values. For more details, see https://nbviewer.org/github/durack1/notebooks/blob/main/jlnbs/PCMDI-AMIP-queryOISST2-0Data.ipynb; There are no changes to either the SST (tos) or diddled SST (tosbcs) fields; NOAA OISST v2.0 data was deprecated in February 2023, and no further PCMDI-AMIP-1-x-y updates will be produced. Ongoing discussions focused on a v2.0 product continue, see https://github.com/PCMDI/amipbcs/issues/6.\"}"
      ]
     },
     "execution_count": 14,
     "metadata": {},
     "output_type": "execute_result"
    }
   ],
   "source": [
    "source_id[\"source_id\"][\"PCMDI-AMIP-1-1-10\"]"
   ]
  },
  {
   "cell_type": "markdown",
   "id": "2f1b43fc-78e9-43ae-8dc2-281e9b1ddc66",
   "metadata": {},
   "source": [
    "### create input4MIPs_CV.json composite"
   ]
  },
  {
   "cell_type": "code",
   "execution_count": 15,
   "id": "47b9e159-3330-4703-ac5e-ad1efe049b30",
   "metadata": {},
   "outputs": [
    {
     "name": "stdout",
     "output_type": "stream",
     "text": [
      "0 activity_id\n",
      "1 dataset_category\n",
      "2 frequency\n",
      "3 grid_label\n",
      "4 institution_id\n",
      "5 license\n",
      "6 mip_era\n",
      "7 nominal_resolution\n",
      "8 product\n",
      "9 realm\n",
      "10 region\n",
      "11 required_global_attributes\n",
      "12 source_id\n",
      "13 target_mip\n"
     ]
    }
   ],
   "source": [
    "input4MIPs_CV = {}\n",
    "input4MIPs_CV[\"CV\"] = {}\n",
    "for count, name in enumerate(targets):\n",
    "    print(count, name)\n",
    "    dic = eval(name)\n",
    "    input4MIPs_CV[\"CV\"][name] = dic[name]"
   ]
  },
  {
   "cell_type": "markdown",
   "id": "38690e4a-3a53-4106-903c-34114c71f128",
   "metadata": {},
   "source": [
    "### write all files out to CVs subdir"
   ]
  },
  {
   "cell_type": "code",
   "execution_count": 16,
   "id": "43428099-d8e1-49ba-aee0-754c494640a3",
   "metadata": {},
   "outputs": [
    {
     "name": "stdout",
     "output_type": "stream",
     "text": [
      "0 activity_id\n",
      "1 dataset_category\n",
      "2 frequency\n",
      "3 grid_label\n",
      "4 institution_id\n",
      "5 license\n",
      "6 mip_era\n",
      "7 nominal_resolution\n",
      "8 product\n",
      "9 realm\n",
      "10 region\n",
      "11 required_global_attributes\n",
      "12 source_id\n",
      "13 target_mip\n",
      "14 input4MIPs_CV\n",
      "CPU times: user 2.08 ms, sys: 3.98 ms, total: 6.06 ms\n",
      "Wall time: 5.3 ms\n"
     ]
    }
   ],
   "source": [
    "%%time\n",
    "targets.append(\"input4MIPs_CV\")\n",
    "for count, name in enumerate(targets):\n",
    "    print(count, name)\n",
    "    dic = eval(name)\n",
    "    if name == \"input4MIPs_CV\":\n",
    "        outFile = \"\".join([\"../Tables/\", name, \".json\"])\n",
    "    else:\n",
    "        outFile = \"\".join([\"../CVs/input4MIPs_\", name, \".json\"])\n",
    "    # cleanup\n",
    "    if os.path.exists(outFile):\n",
    "        os.remove(outFile)\n",
    "    with open(outFile, \"w\") as f:\n",
    "        json.dump(\n",
    "            dic, f, ensure_ascii=True, sort_keys=True, indent=4, separators=(\",\", \":\")\n",
    "        )"
   ]
  }
 ],
 "metadata": {
  "kernelspec": {
   "display_name": "Python 3 (ipykernel)",
   "language": "python",
   "name": "python3"
  },
  "language_info": {
   "codemirror_mode": {
    "name": "ipython",
    "version": 3
   },
   "file_extension": ".py",
   "mimetype": "text/x-python",
   "name": "python",
   "nbconvert_exporter": "python",
   "pygments_lexer": "ipython3",
   "version": "3.11.13"
  }
 },
 "nbformat": 4,
 "nbformat_minor": 5
}
