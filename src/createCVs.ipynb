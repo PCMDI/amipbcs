{
 "cells": [
  {
   "cell_type": "markdown",
   "id": "1462427d-a4eb-4d1e-82e8-adb12e79fb89",
   "metadata": {},
   "source": [
    "# Pull MIP table files\n",
    "<div style=\"text-align: right\">\n",
    "<p>\n",
    "    <img src=\"https://pcmdi.github.io/assets/PCMDI/199x65px-PCMDI-Logo-Text-rectangle.png\"\n",
    "         width=\"91\"\n",
    "         height=\"30\"\n",
    "         class=\"fixed-height-image\"\n",
    "         style=\"margin-right: 20px\"\n",
    "         title=\"Program for Climate Model Diagnosis and Intercomparison\"\n",
    "         alt=\"Program for Climate Model Diagnosis and Intercomparison\"\n",
    "    >&nbsp;\n",
    "    <img src=\"https://pcmdi.github.io/assets/LLNL/212px-LLNLiconPMS286-WHITEBACKGROUND.png\"\n",
    "         width=\"30\"\n",
    "         height=\"30\"\n",
    "         class=\"fixed-height-image\"\n",
    "         style=\"margin-right: 20px\"\n",
    "         title=\"Lawrence Livermore National Laboratory\"\n",
    "         alt=\"Lawrence Livermore National Laboratory\"\n",
    "    >&nbsp;\n",
    "    <img src=\"https://pcmdi.github.io/assets/DOE/459x127px-DOE-Logo_Color_TextOnly.png\"\n",
    "         width=\"108\"\n",
    "         height=\"30\"\n",
    "         class=\"fixed-height-image\"\n",
    "         style=\"margin-right: 20px\"\n",
    "         title=\"United States Department of Energy\"\n",
    "         alt=\"United States Department of Energy\"\n",
    "    >\n",
    "</p>\n",
    "</div>"
   ]
  },
  {
   "cell_type": "markdown",
   "id": "046e72c0-f8f1-4f11-a260-9a091f0aede8",
   "metadata": {},
   "source": [
    "# **Summary**\n",
    "\n",
    "This file pulls input4MIPs CMIP6Plus/CMOR3.7.x-era CVs, strips out extraneous variables and saves the files for local use.\n",
    "\n",
    "**Authors:**\n",
    "\n",
    "Paul J. Durack ([durack1](https://github.com/durack1); [PCMDI](https://pcmdi.llnl.gov/), [Lawrence Livermore National Laboratory](https://www.llnl.gov/))\n",
    "\n",
    "**Notes:**\n",
    "\n",
    "PJD 21 Jul 2025 - initiated<br>\n",
    "PJD 25 Jul 2025 - updated to fix issue with missing CV upper-level dic in input4MIPs_CVs.json<br>\n",
    "PJD 25 Jul 2025 - added \"CMIP7\" to mip_era\n",
    "\n",
    "**TODO:**\n",
    "\n",
    "**Links:**"
   ]
  },
  {
   "cell_type": "markdown",
   "id": "32ebe13b-2ff8-4373-8f40-dfddace9a2cc",
   "metadata": {},
   "source": [
    "### imports"
   ]
  },
  {
   "cell_type": "code",
   "execution_count": 15,
   "id": "157ca2af-ce47-403b-9735-87307836639a",
   "metadata": {},
   "outputs": [
    {
     "name": "stdout",
     "output_type": "stream",
     "text": [
      "CPU times: user 5 μs, sys: 6 μs, total: 11 μs\n",
      "Wall time: 11.9 μs\n"
     ]
    }
   ],
   "source": [
    "%%time\n",
    "import datetime\n",
    "import json\n",
    "import os\n",
    "import requests"
   ]
  },
  {
   "cell_type": "markdown",
   "id": "7cdc23d6-abc9-4840-96f4-13a7b317eda4",
   "metadata": {},
   "source": [
    "## set CV files and pull"
   ]
  },
  {
   "cell_type": "code",
   "execution_count": 16,
   "id": "1a0f4ec8-0d03-42f6-8eb6-d8e3d58f51ac",
   "metadata": {},
   "outputs": [
    {
     "name": "stdout",
     "output_type": "stream",
     "text": [
      "0 activity_id\n",
      "1 dataset_category\n",
      "2 frequency\n",
      "3 grid_label\n",
      "4 institution_id\n",
      "5 license\n",
      "6 mip_era\n",
      "7 nominal_resolution\n",
      "8 product\n",
      "9 realm\n",
      "10 region\n",
      "11 required_global_attributes\n",
      "12 source_id\n",
      "13 target_mip\n",
      "CPU times: user 57.1 ms, sys: 19.4 ms, total: 76.5 ms\n",
      "Wall time: 2.13 s\n"
     ]
    }
   ],
   "source": [
    "%%time\n",
    "targets = [\n",
    "    \"activity_id\",\n",
    "    \"dataset_category\",\n",
    "    \"frequency\",\n",
    "    \"grid_label\",\n",
    "    \"institution_id\",\n",
    "    \"license\",\n",
    "    \"mip_era\",\n",
    "    \"nominal_resolution\",\n",
    "    \"product\",\n",
    "    \"realm\",\n",
    "    \"region\",\n",
    "    \"required_global_attributes\",\n",
    "    \"source_id\",\n",
    "    \"target_mip\",\n",
    "]\n",
    "urlTmp = \"https://raw.githubusercontent.com/PCMDI/input4mips-cmor-tables/refs/heads/master/input4MIPs_TARGET.json\"\n",
    "\n",
    "# loop through urls\n",
    "for count, key in enumerate(targets):\n",
    "    print(count, key)\n",
    "    url = urlTmp.replace(\"TARGET\", key)\n",
    "    try:\n",
    "        response = requests.get(url)\n",
    "        response.raise_for_status()  # Raise HTTPError for bad responses (4/5xx)\n",
    "        vars()[key] = json.loads(response.text)\n",
    "    except requests.exceptions.RequestException as e:\n",
    "        print(f\"Request failed: {e}\")\n",
    "    except json.JSONDecodeError as e:\n",
    "        print(f\"JSON decode failed: {e}\")\n",
    "    except Exception as e:\n",
    "        print(f\"Unexpected error occurred: {e}\")"
   ]
  },
  {
   "cell_type": "markdown",
   "id": "c29023f2-d621-4118-a4fd-3ea18c447cd9",
   "metadata": {},
   "source": [
    "### cleanup institution_id"
   ]
  },
  {
   "cell_type": "code",
   "execution_count": 17,
   "id": "575ff389-e227-40da-a702-5790f910b409",
   "metadata": {},
   "outputs": [
    {
     "data": {
      "text/plain": [
       "dict_keys(['CCCma', 'CNRM-Cerfacs', 'IACETH', 'IAMC', 'ImperialCollege', 'MOHC', 'MPI-B', 'MPI-M', 'MRI', 'NASA-GSFC', 'NCAR', 'NCAS', 'PCMDI', 'PNNL-JGCRI', 'SOLARIS-HEPPA', 'UCI', 'UColorado', 'UReading', 'UoM', 'UofMD', 'VUA'])"
      ]
     },
     "execution_count": 17,
     "metadata": {},
     "output_type": "execute_result"
    }
   ],
   "source": [
    "institution_id[\"institution_id\"].keys()"
   ]
  },
  {
   "cell_type": "code",
   "execution_count": 18,
   "id": "7af751ea-c6fb-4782-8a4a-4282292f9bd9",
   "metadata": {},
   "outputs": [
    {
     "data": {
      "text/plain": [
       "dict_keys(['PCMDI'])"
      ]
     },
     "execution_count": 18,
     "metadata": {},
     "output_type": "execute_result"
    }
   ],
   "source": [
    "keyList = list(institution_id[\"institution_id\"].keys())\n",
    "for count, key in enumerate(keyList):\n",
    "    if key != \"PCMDI\":\n",
    "        institution_id[\"institution_id\"].pop(key)\n",
    "institution_id[\"institution_id\"].keys()"
   ]
  },
  {
   "cell_type": "markdown",
   "id": "2a536a8c",
   "metadata": {},
   "source": [
    "### clean up mip_era"
   ]
  },
  {
   "cell_type": "code",
   "execution_count": 19,
   "id": "b67c6a57",
   "metadata": {},
   "outputs": [],
   "source": [
    "mip_era[\"mip_era\"].append(\"CMIP7\")"
   ]
  },
  {
   "cell_type": "markdown",
   "id": "54dc9c18-12bd-4c8a-b5f4-200f596b7cbb",
   "metadata": {},
   "source": [
    "### clean up source_id"
   ]
  },
  {
   "cell_type": "code",
   "execution_count": 20,
   "id": "765bd1bd-5a76-4d7a-b733-4ee0c761089d",
   "metadata": {},
   "outputs": [
    {
     "data": {
      "text/plain": [
       "dict_keys(['ACCESS1-3-rcp85-1-0', 'CCSM4-rcp26-1-0', 'CCSM4-rcp85-1-0', 'CESM2-ssp585-1-0', 'CNRM-CM6-1-ssp126-1-0', 'CNRM-CM6-1-ssp585-1-0', 'CNRM-ESM2-1-ssp585-1-0', 'CSIRO-MK3-6-0-rcp85-1-0', 'HadGEM2-ES-rcp85-1-0', 'IPSL-CM5A-MR-rcp26-1-0', 'IPSL-CM5A-MR-rcp85-1-0', 'MIROC-ESM-CHEM-rcp26-1-0', 'MIROC-ESM-CHEM-rcp85-1-0', 'MIROC5-rcp26-1-0', 'MIROC5-rcp85-1-0', 'MRI-JRA55-do-1-3', 'MRI-JRA55-do-1-3-2', 'MRI-JRA55-do-1-4-0', 'MRI-JRA55-do-1-5-0', 'MRI-JRA55-do-1-6-0', 'NorESM1-M-rcp26-1-0', 'NorESM1-M-rcp85-1-0', 'PCMDI-AMIP-1-1-3', 'PCMDI-AMIP-1-1-4', 'PCMDI-AMIP-1-1-5', 'PCMDI-AMIP-1-1-6', 'PCMDI-AMIP-1-1-7', 'PCMDI-AMIP-1-1-8', 'PCMDI-AMIP-1-1-9', 'UKESM1-0-LL-ssp585-1-0'])"
      ]
     },
     "execution_count": 20,
     "metadata": {},
     "output_type": "execute_result"
    }
   ],
   "source": [
    "source_id[\"source_id\"].keys()"
   ]
  },
  {
   "cell_type": "markdown",
   "id": "686eb1b2-39fe-48e6-b8e5-b05e0b477c15",
   "metadata": {},
   "source": [
    "### cleanup non-PCMDI keys"
   ]
  },
  {
   "cell_type": "code",
   "execution_count": 21,
   "id": "4c4cdc3c-9479-4a50-86c4-8e91c1713b53",
   "metadata": {},
   "outputs": [
    {
     "data": {
      "text/plain": [
       "dict_keys(['PCMDI-AMIP-1-1-3', 'PCMDI-AMIP-1-1-4', 'PCMDI-AMIP-1-1-5', 'PCMDI-AMIP-1-1-6', 'PCMDI-AMIP-1-1-7', 'PCMDI-AMIP-1-1-8', 'PCMDI-AMIP-1-1-9'])"
      ]
     },
     "execution_count": 21,
     "metadata": {},
     "output_type": "execute_result"
    }
   ],
   "source": [
    "keyList = list(source_id[\"source_id\"].keys())\n",
    "for count, key in enumerate(keyList):\n",
    "    if \"PCMDI\" not in key:\n",
    "        source_id[\"source_id\"].pop(key)\n",
    "source_id[\"source_id\"].keys()"
   ]
  },
  {
   "cell_type": "markdown",
   "id": "c0722e2c-1988-4b8e-bee8-7b2f2cd69314",
   "metadata": {},
   "source": [
    "### update source_id to include PCMDI-AMIP-1-1-10"
   ]
  },
  {
   "cell_type": "code",
   "execution_count": 22,
   "id": "aba61ce9-3766-4d79-9d65-ffc56d9a21e9",
   "metadata": {},
   "outputs": [],
   "source": [
    "source_id[\"source_id\"][\"PCMDI-AMIP-1-1-10\"] = source_id[\"source_id\"][\"PCMDI-AMIP-1-1-9\"]\n",
    "source_id[\"source_id\"][\"PCMDI-AMIP-1-1-10\"][\"mip_era\"] = \"CMIP7\"\n",
    "source_id[\"source_id\"][\"PCMDI-AMIP-1-1-10\"][\"release_year\"] = \"2025\"\n",
    "source_id[\"source_id\"][\"PCMDI-AMIP-1-1-10\"][\n",
    "    \"source\"\n",
    "] = \"PCMDI-AMIP 1.1.10: Merged SST based on UK MetOffice HadISST and NCEP OI2\"\n",
    "source_id[\"source_id\"][\"PCMDI-AMIP-1-1-10\"][\n",
    "    \"source_description\"\n",
    "] = \"Sea surface temperature and sea-ice datasets produced by PCMDI (LLNL) for the AMIP (DECK) experiment of CMIP7\"\n",
    "source_id[\"source_id\"][\"PCMDI-AMIP-1-1-10\"][\"source_id\"] = \"PCMDI-AMIP-1-1-10\"\n",
    "source_id[\"source_id\"][\"PCMDI-AMIP-1-1-10\"][\"source_version\"] = \"1.1.10\"\n",
    "source_id[\"source_id\"][\"PCMDI-AMIP-1-1-10\"][\n",
    "    \"title\"\n",
    "] = \"PCMDI-AMIP 1.1.10 dataset prepared for input4MIPs\""
   ]
  },
  {
   "cell_type": "code",
   "execution_count": 23,
   "id": "8836d2be-44d4-4067-86c4-ecd563641ebf",
   "metadata": {},
   "outputs": [
    {
     "data": {
      "text/plain": [
       "{'calendar': 'gregorian',\n",
       " 'comment': 'Based on Hurrell SST/sea ice consistency criteria applied to merged HadISST (1870-01 to 1981-10) & NCEP-0I2 (1981-11 to 2022-12)',\n",
       " 'contact': 'PCMDI (pcmdi-cmip@llnl.gov)',\n",
       " 'dataset_category': 'SSTsAndSeaIce',\n",
       " 'further_info_url': 'https://pcmdi.llnl.gov/mips/amip',\n",
       " 'grid': '1x1 degree longitude x latitude',\n",
       " 'grid_label': 'gn',\n",
       " 'institution': 'Program for Climate Model Diagnosis and Intercomparison, Lawrence Livermore National Laboratory, Livermore, CA 94550, USA',\n",
       " 'institution_id': 'PCMDI',\n",
       " 'license': 'AMIP boundary condition data produced by PCMDI is licensed under a Creative Commons Attribution 4.0 International License (CC BY 4.0; https://creativecommons.org/licenses/by/4.0). Consult https://pcmdi.llnl.gov/CMIP6/TermsOfUse for terms of use governing input4MIPs output, including citation requirements and proper acknowledgment. Further information about this data, including some limitations, can be found via the further_info_url (recorded as a global attribute in this file). The data producers and data providers make no warranty, either express or implied, including, but not limited to, warranties of merchantability and fitness for a particular purpose. All liabilities arising from the supply of the information (including any liability arising in negligence) are excluded to the fullest extent permitted by law',\n",
       " 'mip_era': 'CMIP7',\n",
       " 'nominal_resolution': '1x1 degree',\n",
       " 'product': 'observations',\n",
       " 'references': 'Taylor, K.E., D. Williamson and F. Zwiers, 2000: The sea surface temperature and sea ice concentration boundary conditions for AMIP II simulations. PCMDI Report 60, Program for Climate Model Diagnosis and Intercomparison, Lawrence Livermore National Laboratory, 25 pp. Available online: https://pcmdi.llnl.gov/report/pdf/60.pdf',\n",
       " 'region': ['global_ocean'],\n",
       " 'release_year': '2025',\n",
       " 'source': 'PCMDI-AMIP 1.1.10: Merged SST based on UK MetOffice HadISST and NCEP OI2',\n",
       " 'source_description': 'Sea surface temperature and sea-ice datasets produced by PCMDI (LLNL) for the AMIP (DECK) experiment of CMIP7',\n",
       " 'source_id': 'PCMDI-AMIP-1-1-10',\n",
       " 'source_type': 'satellite_blended',\n",
       " 'source_variables': ['areacello',\n",
       "  'sftof',\n",
       "  'siconc',\n",
       "  'siconcbcs',\n",
       "  'tos',\n",
       "  'tosbcs'],\n",
       " 'source_version': '1.1.10',\n",
       " 'target_mip': 'CMIP',\n",
       " 'title': 'PCMDI-AMIP 1.1.10 dataset prepared for input4MIPs'}"
      ]
     },
     "execution_count": 23,
     "metadata": {},
     "output_type": "execute_result"
    }
   ],
   "source": [
    "source_id[\"source_id\"][\"PCMDI-AMIP-1-1-10\"]"
   ]
  },
  {
   "cell_type": "markdown",
   "id": "78fa963b-ca65-48e2-b1ef-b5363ec46104",
   "metadata": {},
   "source": [
    "### correct license format"
   ]
  },
  {
   "cell_type": "markdown",
   "id": "2f1b43fc-78e9-43ae-8dc2-281e9b1ddc66",
   "metadata": {},
   "source": [
    "### create input4MIPs_CV.json composite"
   ]
  },
  {
   "cell_type": "code",
   "execution_count": 24,
   "id": "47b9e159-3330-4703-ac5e-ad1efe049b30",
   "metadata": {},
   "outputs": [
    {
     "name": "stdout",
     "output_type": "stream",
     "text": [
      "0 activity_id\n",
      "1 dataset_category\n",
      "2 frequency\n",
      "3 grid_label\n",
      "4 institution_id\n",
      "5 license\n",
      "6 mip_era\n",
      "7 nominal_resolution\n",
      "8 product\n",
      "9 realm\n",
      "10 region\n",
      "11 required_global_attributes\n",
      "12 source_id\n",
      "13 target_mip\n"
     ]
    }
   ],
   "source": [
    "input4MIPs_CV = {}\n",
    "input4MIPs_CV[\"CV\"] = {}\n",
    "for count, name in enumerate(targets):\n",
    "    print(count, name)\n",
    "    dic = eval(name)\n",
    "    input4MIPs_CV[\"CV\"][name] = dic[name]"
   ]
  },
  {
   "cell_type": "markdown",
   "id": "38690e4a-3a53-4106-903c-34114c71f128",
   "metadata": {},
   "source": [
    "### write all files out to Tables subdir"
   ]
  },
  {
   "cell_type": "code",
   "execution_count": 25,
   "id": "43428099-d8e1-49ba-aee0-754c494640a3",
   "metadata": {},
   "outputs": [
    {
     "name": "stdout",
     "output_type": "stream",
     "text": [
      "0 activity_id\n",
      "1 dataset_category\n",
      "2 frequency\n",
      "3 grid_label\n",
      "4 institution_id\n",
      "5 license\n",
      "6 mip_era\n",
      "7 nominal_resolution\n",
      "8 product\n",
      "9 realm\n",
      "10 region\n",
      "11 required_global_attributes\n",
      "12 source_id\n",
      "13 target_mip\n",
      "14 input4MIPs_CV\n",
      "CPU times: user 2.11 ms, sys: 3.96 ms, total: 6.06 ms\n",
      "Wall time: 4.69 ms\n"
     ]
    }
   ],
   "source": [
    "%%time\n",
    "targets.append(\"input4MIPs_CV\")\n",
    "for count, name in enumerate(targets):\n",
    "    print(count, name)\n",
    "    dic = eval(name)\n",
    "    # add Header\n",
    "    if name not in [\"input4MIPs_CV\"]:\n",
    "        outFile = \"\".join([\"../CVs/input4MIPs_\", name, \".json\"])\n",
    "    else:\n",
    "        outFile = \"\".join([\"../Tables/\", name, \".json\"])\n",
    "    # cleanup\n",
    "    if os.path.exists(outFile):\n",
    "        os.remove(outFile)\n",
    "    with open(outFile, \"w\") as f:\n",
    "        json.dump(\n",
    "            dic, f, ensure_ascii=True, sort_keys=True, indent=4, separators=(\",\", \":\")\n",
    "        )"
   ]
  }
 ],
 "metadata": {
  "kernelspec": {
   "display_name": "Python 3 (ipykernel)",
   "language": "python",
   "name": "python3"
  },
  "language_info": {
   "codemirror_mode": {
    "name": "ipython",
    "version": 3
   },
   "file_extension": ".py",
   "mimetype": "text/x-python",
   "name": "python",
   "nbconvert_exporter": "python",
   "pygments_lexer": "ipython3",
   "version": "3.11.13"
  }
 },
 "nbformat": 4,
 "nbformat_minor": 5
}
