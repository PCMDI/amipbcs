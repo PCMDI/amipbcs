{
 "cells": [
  {
   "cell_type": "markdown",
   "id": "1462427d-a4eb-4d1e-82e8-adb12e79fb89",
   "metadata": {},
   "source": [
    "# Pull MIP table files; Create CVs\n",
    "<div style=\"text-align: right\">\n",
    "<p>\n",
    "    <img src=\"https://pcmdi.github.io/assets/PCMDI/199x65px-PCMDI-Logo-Text-rectangle.png\"\n",
    "         width=\"91\"\n",
    "         height=\"30\"\n",
    "         class=\"fixed-height-image\"\n",
    "         style=\"margin-right: 20px\"\n",
    "         title=\"Program for Climate Model Diagnosis and Intercomparison\"\n",
    "         alt=\"Program for Climate Model Diagnosis and Intercomparison\"\n",
    "    >&nbsp;\n",
    "    <img src=\"https://pcmdi.github.io/assets/LLNL/212px-LLNLiconPMS286-WHITEBACKGROUND.png\"\n",
    "         width=\"30\"\n",
    "         height=\"30\"\n",
    "         class=\"fixed-height-image\"\n",
    "         style=\"margin-right: 20px\"\n",
    "         title=\"Lawrence Livermore National Laboratory\"\n",
    "         alt=\"Lawrence Livermore National Laboratory\"\n",
    "    >&nbsp;\n",
    "    <img src=\"https://pcmdi.github.io/assets/DOE/459x127px-DOE-Logo_Color_TextOnly.png\"\n",
    "         width=\"108\"\n",
    "         height=\"30\"\n",
    "         class=\"fixed-height-image\"\n",
    "         style=\"margin-right: 20px\"\n",
    "         title=\"United States Department of Energy\"\n",
    "         alt=\"United States Department of Energy\"\n",
    "    >\n",
    "</p>\n",
    "</div>"
   ]
  },
  {
   "cell_type": "markdown",
   "id": "046e72c0-f8f1-4f11-a260-9a091f0aede8",
   "metadata": {},
   "source": [
    "**Summary**\n",
    "\n",
    "This file pulls input4MIPs CMIP6Plus/CMOR3.7.x-era MIP table files, strips out extraneous variables and saves the files for local use. It also creates a bare-minimum set of input4MIPs Controlled Vocabulary files to meet the needs of the PCMDI-AMIP-1-1-10 data generation.\n",
    "\n",
    "**Authors**\n",
    "\n",
    "Paul J. Durack ([durack1](https://github.com/durack1); [PCMDI](https://pcmdi.llnl.gov/), [Lawrence Livermore National Laboratory](https://www.llnl.gov/))\n",
    "\n",
    "**Notes**\n",
    "\n",
    "PJD 14 Feb 2025 - initiated<br>\n",
    "\n",
    "TODO:\n",
    "\n",
    "**Links**"
   ]
  },
  {
   "cell_type": "markdown",
   "id": "32ebe13b-2ff8-4373-8f40-dfddace9a2cc",
   "metadata": {},
   "source": [
    "### imports"
   ]
  },
  {
   "cell_type": "code",
   "execution_count": 1,
   "id": "157ca2af-ce47-403b-9735-87307836639a",
   "metadata": {},
   "outputs": [
    {
     "name": "stdout",
     "output_type": "stream",
     "text": [
      "CPU times: user 40 ms, sys: 14.3 ms, total: 54.3 ms\n",
      "Wall time: 60.1 ms\n"
     ]
    }
   ],
   "source": [
    "%%time\n",
    "import datetime\n",
    "import json\n",
    "import os\n",
    "import requests"
   ]
  },
  {
   "cell_type": "markdown",
   "id": "7cdc23d6-abc9-4840-96f4-13a7b317eda4",
   "metadata": {},
   "source": [
    "### set table files and pull"
   ]
  },
  {
   "cell_type": "code",
   "execution_count": 2,
   "id": "1a0f4ec8-0d03-42f6-8eb6-d8e3d58f51ac",
   "metadata": {},
   "outputs": [
    {
     "name": "stdout",
     "output_type": "stream",
     "text": [
      "0 coordinate\n",
      "1 formula_terms\n",
      "2 Ofx\n",
      "3 Omon\n",
      "4 SImon\n",
      "CPU times: user 11.2 ms, sys: 5.02 ms, total: 16.2 ms\n",
      "Wall time: 83.8 ms\n"
     ]
    }
   ],
   "source": [
    "%%time\n",
    "urls = {\n",
    "    \"coordinate\": \"https://raw.githubusercontent.com/PCMDI/input4mips-cmor-tables/refs/heads/master/Tables/input4MIPs_coordinate.json\",\n",
    "    \"formula_terms\": \"https://raw.githubusercontent.com/PCMDI/input4mips-cmor-tables/refs/heads/master/Tables/input4MIPs_formula_terms.json\",\n",
    "    \"Ofx\": \"https://raw.githubusercontent.com/PCMDI/input4MIPs-cmor-tables/refs/heads/master/Tables/input4MIPs_Ofx.json\",\n",
    "    \"Omon\": \"https://raw.githubusercontent.com/PCMDI/input4MIPs-cmor-tables/refs/heads/master/Tables/input4MIPs_Omon.json\",\n",
    "    \"SImon\": \"https://raw.githubusercontent.com/PCMDI/input4MIPs-cmor-tables/refs/heads/master/Tables/input4MIPs_SImon.json\",\n",
    "}\n",
    "\n",
    "# loop through urls\n",
    "keys = urls.keys()\n",
    "for count, key in enumerate(keys):\n",
    "    print(count, key)\n",
    "    url = urls[key]\n",
    "    try:\n",
    "        response = requests.get(url)\n",
    "        response.raise_for_status()  # Raise HTTPError for bad responses (4/5xx)\n",
    "        vars()[key] = json.loads(response.text)\n",
    "    except requests.exceptions.RequestException as e:\n",
    "        print(f\"Request failed: {e}\")\n",
    "    except json.JSONDecodeError as e:\n",
    "        print(f\"JSON decode failed: {e}\")\n",
    "    except Exception as e:\n",
    "        print(f\"Unexpected error occurred: {e}\")"
   ]
  },
  {
   "cell_type": "markdown",
   "id": "026d34da-afba-4a1a-8d3e-73918d0d18d2",
   "metadata": {},
   "source": [
    "### all tables trim out redundant variables, reset table_date"
   ]
  },
  {
   "cell_type": "code",
   "execution_count": 3,
   "id": "6f12ffd2-8c0d-4172-969e-0706eedf9d81",
   "metadata": {},
   "outputs": [
    {
     "name": "stdout",
     "output_type": "stream",
     "text": [
      "CPU times: user 22 μs, sys: 1 μs, total: 23 μs\n",
      "Wall time: 24.8 μs\n"
     ]
    },
    {
     "data": {
      "text/plain": [
       "{'Conventions': 'CF-1.7 CMIP-6.2',\n",
       " 'approx_interval': '30.00000',\n",
       " 'cmor_version': '3.5',\n",
       " 'data_specs_version': '01.00.33',\n",
       " 'generic_levels': '',\n",
       " 'int_missing_value': '-999',\n",
       " 'mip_era': 'CMIP6',\n",
       " 'missing_value': '1e20',\n",
       " 'product': 'input4MIPs',\n",
       " 'realm': 'seaIce',\n",
       " 'table_date': '29 May 2024',\n",
       " 'table_id': 'Table input4MIPs_SImon'}"
      ]
     },
     "execution_count": 3,
     "metadata": {},
     "output_type": "execute_result"
    }
   ],
   "source": [
    "%%time\n",
    "# Ofx\n",
    "keyList = list(Ofx[\"variable_entry\"].keys())\n",
    "keepKeys = [\"areacello\", \"sftof\"]\n",
    "for count, key in enumerate(keyList):\n",
    "    if key not in keepKeys:\n",
    "        Ofx[\"variable_entry\"].pop(key)\n",
    "# Omon\n",
    "keyList = list(Omon[\"variable_entry\"].keys())\n",
    "keepKeys = [\"tos\", \"tosbcs\"]\n",
    "for count, key in enumerate(keyList):\n",
    "    if key not in keepKeys:\n",
    "        Omon[\"variable_entry\"].pop(key)\n",
    "# SImon - no redundant variables\n",
    "keyList = list(SImon[\"variable_entry\"].keys())\n",
    "keepKeys = [\"siconc\", \"siconcbcs\"]\n",
    "for count, key in enumerate(keyList):\n",
    "    if key not in keepKeys:\n",
    "        Omon[\"variable_entry\"].pop(key)\n",
    "Header = SImon[\"Header\"]\n",
    "Header"
   ]
  },
  {
   "cell_type": "markdown",
   "id": "4f30da1f-241a-4754-ae18-35e32056e4e7",
   "metadata": {},
   "source": [
    "### cleanup all Table file Headers"
   ]
  },
  {
   "cell_type": "code",
   "execution_count": 4,
   "id": "47b9e159-3330-4703-ac5e-ad1efe049b30",
   "metadata": {},
   "outputs": [],
   "source": [
    "Header[\"cmor_version\"] = \"3.11\"\n",
    "Header[\"mip_era\"] = \"CMIP7\"\n",
    "Header[\"table_date\"] = datetime.datetime.now().strftime(\"%Y-%m-%d\")"
   ]
  },
  {
   "cell_type": "markdown",
   "id": "38690e4a-3a53-4106-903c-34114c71f128",
   "metadata": {},
   "source": [
    "### write all files out to Tables subdir"
   ]
  },
  {
   "cell_type": "code",
   "execution_count": 5,
   "id": "43428099-d8e1-49ba-aee0-754c494640a3",
   "metadata": {},
   "outputs": [
    {
     "name": "stdout",
     "output_type": "stream",
     "text": [
      "0 coordinate\n",
      "1 formula_terms\n",
      "2 Ofx\n",
      "3 Omon\n",
      "4 SImon\n",
      "CPU times: user 2.8 ms, sys: 1.76 ms, total: 4.56 ms\n",
      "Wall time: 3.6 ms\n"
     ]
    }
   ],
   "source": [
    "%%time\n",
    "files = [\"coordinate\", \"formula_terms\", \"Ofx\", \"Omon\", \"SImon\"]\n",
    "for count, name in enumerate(files):\n",
    "    print(count, name)\n",
    "    dic = eval(name)\n",
    "    # add Header\n",
    "    if name not in [\"coordinate\", \"formula_terms\"]:\n",
    "        # exclude Header rewrite for coordinate/formula_terms as changes CMOR 3.9.0 behaviours\n",
    "        dic[\"Header\"] = Header\n",
    "        dic[\"Header\"][\"table_id\"] = \"_\".join([\"Table input4MIPs\", name])\n",
    "    # write file\n",
    "    outFile = \"\".join([\"../Tables/input4MIPs_\", name, \".json\"])\n",
    "    with open(outFile, \"w\") as f:\n",
    "        json.dump(\n",
    "            dic, f, ensure_ascii=True, sort_keys=True, indent=4, separators=(\",\", \":\")\n",
    "        )"
   ]
  }
 ],
 "metadata": {
  "kernelspec": {
   "display_name": "Python 3 (ipykernel)",
   "language": "python",
   "name": "python3"
  },
  "language_info": {
   "codemirror_mode": {
    "name": "ipython",
    "version": 3
   },
   "file_extension": ".py",
   "mimetype": "text/x-python",
   "name": "python",
   "nbconvert_exporter": "python",
   "pygments_lexer": "ipython3",
   "version": "3.13.5"
  }
 },
 "nbformat": 4,
 "nbformat_minor": 5
}
